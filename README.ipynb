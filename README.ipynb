{
 "cells": [
  {
   "cell_type": "markdown",
   "id": "f008ab9d-2110-448a-88ab-81dde1d2129f",
   "metadata": {},
   "source": [
    "# Glyphosate Resistant"
   ]
  },
  {
   "cell_type": "markdown",
   "id": "ccd66b09-ba61-4448-a38e-6125276d8f3c",
   "metadata": {},
   "source": [
    "## Extract Top Species"
   ]
  },
  {
   "cell_type": "code",
   "execution_count": null,
   "id": "bf906f27-4ff8-413b-858d-40631f64b5c5",
   "metadata": {},
   "outputs": [],
   "source": [
    "module load conda/latest\n",
    "conda activate deepectransformer"
   ]
  },
  {
   "cell_type": "markdown",
   "id": "a8d8ed9e-aff8-4022-a92c-de59c615475e",
   "metadata": {},
   "source": [
    "### General top species (Without Metadata)"
   ]
  },
  {
   "cell_type": "markdown",
   "id": "3a52bcf8-6dd3-4e50-afc2-7ae483d2367b",
   "metadata": {},
   "source": [
    "process_top_n_species(\n",
    "    species_abundance=abundance_df,\n",
    "    top_n=100,\n",
    "    top_n_output_file=\"results/top_species\"\n",
    ")"
   ]
  },
  {
   "cell_type": "markdown",
   "id": "a6e332b9-d100-449d-a402-05eb9ef41100",
   "metadata": {},
   "source": [
    "### Top species split by Status"
   ]
  },
  {
   "cell_type": "code",
   "execution_count": 2,
   "id": "f7c2d473-fa99-4a3e-82a4-77dde404b791",
   "metadata": {},
   "outputs": [
    {
     "name": "stdout",
     "output_type": "stream",
     "text": [
      "\u001b[1m                                                                                \u001b[0m\n",
      "\u001b[1m \u001b[0m\u001b[1;33mUsage: \u001b[0m\u001b[1mrun_preprocess.py extract-top-species [OPTIONS]\u001b[0m\u001b[1m                        \u001b[0m\u001b[1m \u001b[0m\n",
      "\u001b[1m                                                                                \u001b[0m\n",
      " Extract species abundance and compute the top 100 abundant species.            \n",
      "                                                                                \n",
      " \u001b[2mIf a metadata file is provided, the top 100 will be computed per status group.\u001b[0m \n",
      " \u001b[2mOtherwise, the top 100 species will be computed from all samples combined.\u001b[0m     \n",
      " \u001b[2mParameters: - input_file: Tab-separated file containing raw species abundance \u001b[0m \n",
      " \u001b[2mdata. - species_output_file: Where to save the cleaned species abundance data.\u001b[0m \n",
      " \u001b[2m- metadata_file: Optional file with 'SampleID' and 'Status' to split samples. \u001b[0m \n",
      " \u001b[2m- top_n_output_file: Output file prefix for top 100 species result(s).\u001b[0m         \n",
      "                                                                                \n",
      "\u001b[2m╭─\u001b[0m\u001b[2m Options \u001b[0m\u001b[2m───────────────────────────────────────────────────────────────────\u001b[0m\u001b[2m─╮\u001b[0m\n",
      "\u001b[2m│\u001b[0m \u001b[31m*\u001b[0m  \u001b[1;36m-\u001b[0m\u001b[1;36m-input\u001b[0m\u001b[1;36m-file\u001b[0m                 \u001b[1;33mTEXT\u001b[0m  Path to the input file containing      \u001b[2m│\u001b[0m\n",
      "\u001b[2m│\u001b[0m                                       species abundance data.                \u001b[2m│\u001b[0m\n",
      "\u001b[2m│\u001b[0m                                       \u001b[2m[default: None]                       \u001b[0m \u001b[2m│\u001b[0m\n",
      "\u001b[2m│\u001b[0m                                       \u001b[2;31m[required]                            \u001b[0m \u001b[2m│\u001b[0m\n",
      "\u001b[2m│\u001b[0m    \u001b[1;36m-\u001b[0m\u001b[1;36m-species\u001b[0m\u001b[1;36m-output-file\u001b[0m        \u001b[1;33mTEXT\u001b[0m  Path to save filtered species          \u001b[2m│\u001b[0m\n",
      "\u001b[2m│\u001b[0m                                       abundance data.                        \u001b[2m│\u001b[0m\n",
      "\u001b[2m│\u001b[0m                                       \u001b[2m[default: None]                       \u001b[0m \u001b[2m│\u001b[0m\n",
      "\u001b[2m│\u001b[0m    \u001b[1;36m-\u001b[0m\u001b[1;36m-metadata\u001b[0m\u001b[1;36m-file\u001b[0m              \u001b[1;33mTEXT\u001b[0m  Path to metadata file with 'SampleID'  \u001b[2m│\u001b[0m\n",
      "\u001b[2m│\u001b[0m                                       and 'Status'.                          \u001b[2m│\u001b[0m\n",
      "\u001b[2m│\u001b[0m                                       \u001b[2m[default: None]                       \u001b[0m \u001b[2m│\u001b[0m\n",
      "\u001b[2m│\u001b[0m    \u001b[1;36m-\u001b[0m\u001b[1;36m-top\u001b[0m\u001b[1;36m-n-output-file\u001b[0m          \u001b[1;33mTEXT\u001b[0m  Prefix for output file(s) with top     \u001b[2m│\u001b[0m\n",
      "\u001b[2m│\u001b[0m                                       abundant species.                      \u001b[2m│\u001b[0m\n",
      "\u001b[2m│\u001b[0m                                       \u001b[2m[default: top_species]                \u001b[0m \u001b[2m│\u001b[0m\n",
      "\u001b[2m│\u001b[0m    \u001b[1;36m-\u001b[0m\u001b[1;36m-help\u001b[0m                       \u001b[1;33m    \u001b[0m  Show this message and exit.            \u001b[2m│\u001b[0m\n",
      "\u001b[2m╰──────────────────────────────────────────────────────────────────────────────╯\u001b[0m\n",
      "\n"
     ]
    }
   ],
   "source": [
    "!python script/run_preprocess.py extract-top-species --help"
   ]
  },
  {
   "cell_type": "markdown",
   "id": "97ad5506-7421-4228-b086-45b1360c6e06",
   "metadata": {},
   "source": [
    "Example:\n",
    "python script/run_preprocess.py extract-top-species   \n",
    "--input-file data/raw/Internal2_metaphlan_merged_abundance_table.txt   \n",
    "--species-output-file data/processed/species_full_abundance_table.csv   \n",
    "--metadata-file data/metadata/Internal_meta_diet.txt   \n",
    "--top-n-output-file data/processed/top_specie"
   ]
  },
  {
   "cell_type": "markdown",
   "id": "2d5965c9-31b1-496e-9d74-e79259ec6366",
   "metadata": {},
   "source": [
    "## Download from NCBI"
   ]
  },
  {
   "cell_type": "code",
   "execution_count": null,
   "id": "a960db9b-d502-4789-8068-8fa8bf5e09ce",
   "metadata": {},
   "outputs": [
    {
     "name": "stdout",
     "output_type": "stream",
     "text": [
      "\u001b[1m                                                                                \u001b[0m\n",
      "\u001b[1m \u001b[0m\u001b[1;33mUsage: \u001b[0m\u001b[1mrun_preprocess.py download-top-taxa [OPTIONS]\u001b[0m\u001b[1m                          \u001b[0m\u001b[1m \u001b[0m\n",
      "\u001b[1m                                                                                \u001b[0m\n",
      " Download genome assemblies for the top N species.                              \n",
      "                                                                                \n",
      "                                                                                \n",
      "\u001b[2m╭─\u001b[0m\u001b[2m Options \u001b[0m\u001b[2m───────────────────────────────────────────────────────────────────\u001b[0m\u001b[2m─╮\u001b[0m\n",
      "\u001b[2m│\u001b[0m \u001b[1;36m-\u001b[0m\u001b[1;36m-top\u001b[0m\u001b[1;36m-n-species-file\u001b[0m        \u001b[1;33mTEXT\u001b[0m  Path to the file containing top N species. \u001b[2m│\u001b[0m\n",
      "\u001b[2m│\u001b[0m                                   \u001b[2m[default: None]                           \u001b[0m \u001b[2m│\u001b[0m\n",
      "\u001b[2m│\u001b[0m \u001b[1;36m-\u001b[0m\u001b[1;36m-abundance\u001b[0m\u001b[1;36m-file\u001b[0m            \u001b[1;33mTEXT\u001b[0m  Path to the file containing species        \u001b[2m│\u001b[0m\n",
      "\u001b[2m│\u001b[0m                                   abundance data if top N species file is    \u001b[2m│\u001b[0m\n",
      "\u001b[2m│\u001b[0m                                   empty.                                     \u001b[2m│\u001b[0m\n",
      "\u001b[2m│\u001b[0m                                   \u001b[2m[default: None]                           \u001b[0m \u001b[2m│\u001b[0m\n",
      "\u001b[2m│\u001b[0m \u001b[1;36m-\u001b[0m\u001b[1;36m-output\u001b[0m\u001b[1;36m-dir\u001b[0m                \u001b[1;33mTEXT\u001b[0m  Directory to save downloaded files.        \u001b[2m│\u001b[0m\n",
      "\u001b[2m│\u001b[0m                                   \u001b[2m[default: ./data/downloads]        \u001b[0m        \u001b[2m│\u001b[0m\n",
      "\u001b[2m│\u001b[0m \u001b[1;36m-\u001b[0m\u001b[1;36m-help\u001b[0m                      \u001b[1;33m    \u001b[0m  Show this message and exit.                \u001b[2m│\u001b[0m\n",
      "\u001b[2m╰──────────────────────────────────────────────────────────────────────────────╯\u001b[0m\n",
      "\n"
     ]
    }
   ],
   "source": [
    "!python script/run_preprocess.py download-top-taxa --help"
   ]
  },
  {
   "cell_type": "markdown",
   "id": "c609e701",
   "metadata": {},
   "source": [
    "### Convert FNA to FAA using Prodigal"
   ]
  },
  {
   "cell_type": "code",
   "execution_count": 1,
   "id": "959656a6",
   "metadata": {},
   "outputs": [
    {
     "name": "stdout",
     "output_type": "stream",
     "text": [
      "\u001b[1m                                                                                \u001b[0m\n",
      "\u001b[1m \u001b[0m\u001b[1;33mUsage: \u001b[0m\u001b[1mrun_prodigal.py [OPTIONS] TAXA_DIR\u001b[0m\u001b[1m                                     \u001b[0m\u001b[1m \u001b[0m\n",
      "\u001b[1m                                                                                \u001b[0m\n",
      "\u001b[2m╭─\u001b[0m\u001b[2m Arguments \u001b[0m\u001b[2m─────────────────────────────────────────────────────────────────\u001b[0m\u001b[2m─╮\u001b[0m\n",
      "\u001b[2m│\u001b[0m \u001b[31m*\u001b[0m    taxa_dir      \u001b[1;33mTEXT\u001b[0m  Path to the directory containing species subfolders \u001b[2m│\u001b[0m\n",
      "\u001b[2m│\u001b[0m                          \u001b[2m[default: None]                                    \u001b[0m \u001b[2m│\u001b[0m\n",
      "\u001b[2m│\u001b[0m                          \u001b[2;31m[required]                                         \u001b[0m \u001b[2m│\u001b[0m\n",
      "\u001b[2m╰──────────────────────────────────────────────────────────────────────────────╯\u001b[0m\n",
      "\u001b[2m╭─\u001b[0m\u001b[2m Options \u001b[0m\u001b[2m───────────────────────────────────────────────────────────────────\u001b[0m\u001b[2m─╮\u001b[0m\n",
      "\u001b[2m│\u001b[0m \u001b[1;36m-\u001b[0m\u001b[1;36m-install\u001b[0m\u001b[1;36m-completion\u001b[0m          Install completion for the current shell.      \u001b[2m│\u001b[0m\n",
      "\u001b[2m│\u001b[0m \u001b[1;36m-\u001b[0m\u001b[1;36m-show\u001b[0m\u001b[1;36m-completion\u001b[0m             Show completion for the current shell, to copy \u001b[2m│\u001b[0m\n",
      "\u001b[2m│\u001b[0m                               it or customize the installation.              \u001b[2m│\u001b[0m\n",
      "\u001b[2m│\u001b[0m \u001b[1;36m-\u001b[0m\u001b[1;36m-help\u001b[0m                        Show this message and exit.                    \u001b[2m│\u001b[0m\n",
      "\u001b[2m╰──────────────────────────────────────────────────────────────────────────────╯\u001b[0m\n",
      "\n"
     ]
    }
   ],
   "source": [
    "!python script/run_prodigal.py --help"
   ]
  },
  {
   "cell_type": "markdown",
   "id": "902687dc-bbe7-4767-a33b-7778c9f9cbc6",
   "metadata": {},
   "source": [
    "### Run deep EC transformer"
   ]
  },
  {
   "cell_type": "markdown",
   "id": "5e8e8087-670b-45ed-ac69-ee35c2878111",
   "metadata": {},
   "source": [
    "\n",
    "cd DeepProZymed\n",
    "sbatch sbatch_ec.sh --input ../data/downloads/general_taxa --output ../data/result/general\n"
   ]
  },
  {
   "cell_type": "markdown",
   "id": "008ae248-e536-4eb0-9d5c-0154aa76f6a5",
   "metadata": {},
   "source": [
    "## Downstream analysis and visualization"
   ]
  },
  {
   "cell_type": "raw",
   "id": "ead4b488-94ac-42aa-92cf-1d9f41267d7c",
   "metadata": {},
   "source": [
    "check notebook postprocess.ipynb"
   ]
  }
 ],
 "metadata": {
  "kernelspec": {
   "display_name": "Python [conda env:.conda-deepectransformer]",
   "language": "python",
   "name": "conda-env-.conda-deepectransformer-py"
  },
  "language_info": {
   "codemirror_mode": {
    "name": "ipython",
    "version": 3
   },
   "file_extension": ".py",
   "mimetype": "text/x-python",
   "name": "python",
   "nbconvert_exporter": "python",
   "pygments_lexer": "ipython3",
   "version": "3.7.12"
  }
 },
 "nbformat": 4,
 "nbformat_minor": 5
}
